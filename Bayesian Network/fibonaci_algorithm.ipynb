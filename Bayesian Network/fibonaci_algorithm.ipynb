{
 "cells": [
  {
   "cell_type": "code",
   "execution_count": 5,
   "metadata": {},
   "outputs": [
    {
     "name": "stdout",
     "output_type": "stream",
     "text": [
      "Fibonacci number at position 10 is 55\n"
     ]
    }
   ],
   "source": [
    "def fibonacci(n):\n",
    "    # Base cases\n",
    "    if n <= 0:\n",
    "        return 0\n",
    "    elif n == 1:\n",
    "        return 1\n",
    "    \n",
    "    # Create an array to store Fibonacci numbers\n",
    "    fib = [0] * (n + 1)\n",
    "    fib[1] = 1\n",
    "    \n",
    "    # Fill the array using the bottom-up approach\n",
    "    for i in range(2, n + 1):\n",
    "        fib[i] = fib[i - 1] + fib[i - 2]\n",
    "    \n",
    "    return fib[n]\n",
    "\n",
    "# Example usage:\n",
    "n = 10\n",
    "print(f\"Fibonacci number at position {n} is {fibonacci(n)}\")\n"
   ]
  },
  {
   "cell_type": "code",
   "execution_count": 11,
   "metadata": {},
   "outputs": [
    {
     "name": "stdout",
     "output_type": "stream",
     "text": [
      "34\n"
     ]
    }
   ],
   "source": [
    "# Function for nth fibonacci \n",
    "# number\n",
    "FibArray = [0, 1]\n",
    "\n",
    "def fibonacci(n):\n",
    "  \n",
    "    # Check is n is less \n",
    "    # than 0\n",
    "    if n < 0:\n",
    "        print(\"Incorrect input\")\n",
    "        \n",
    "    # Check is n is less \n",
    "    # than len(FibArray)\n",
    "    elif n < len(FibArray):\n",
    "        return FibArray[n]\n",
    "    else:        \n",
    "        FibArray.append(fibonacci(n - 1) + fibonacci(n - 2))\n",
    "        return FibArray[n]\n",
    "\n",
    "# Driver Program\n",
    "print(fibonacci(9))"
   ]
  },
  {
   "cell_type": "code",
   "execution_count": null,
   "metadata": {},
   "outputs": [],
   "source": []
  }
 ],
 "metadata": {
  "kernelspec": {
   "display_name": "Python 3",
   "language": "python",
   "name": "python3"
  },
  "language_info": {
   "codemirror_mode": {
    "name": "ipython",
    "version": 3
   },
   "file_extension": ".py",
   "mimetype": "text/x-python",
   "name": "python",
   "nbconvert_exporter": "python",
   "pygments_lexer": "ipython3",
   "version": "3.11.9"
  }
 },
 "nbformat": 4,
 "nbformat_minor": 2
}
