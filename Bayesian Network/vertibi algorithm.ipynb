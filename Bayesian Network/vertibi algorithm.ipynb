{
 "cells": [
  {
   "cell_type": "code",
   "execution_count": 2,
   "metadata": {},
   "outputs": [
    {
     "name": "stdout",
     "output_type": "stream",
     "text": [
      "Best sequence indices: [2, 2, 2, 2, 2]\n"
     ]
    }
   ],
   "source": [
    "def viterbi_algorithm(n, m, initial_probs, transition_probs):\n",
    "    # Initialize dp and backpointer tables\n",
    "    dp = [[0] * m for _ in range(n)]\n",
    "    back = [[0] * m for _ in range(n)]\n",
    "\n",
    "    # Initial probabilities\n",
    "    for v in range(m):\n",
    "        dp[0][v] = initial_probs[v]\n",
    "\n",
    "    # Fill dp table\n",
    "    for i in range(1, n):\n",
    "        for u in range(m):\n",
    "            max_prob = 0\n",
    "            best_prev_state = 0\n",
    "            for v in range(m):\n",
    "                prob = dp[i-1][v] * transition_probs[v][u]\n",
    "                if prob > max_prob:\n",
    "                    max_prob = prob\n",
    "                    best_prev_state = v\n",
    "            dp[i][u] = max_prob\n",
    "            back[i][u] = best_prev_state\n",
    "\n",
    "    # Backtrack to find the best sequence\n",
    "    best_sequence = [0] * n\n",
    "    best_sequence[n-1] = max(range(m), key=lambda u: dp[n-1][u])\n",
    "\n",
    "    for i in range(n-2, -1, -1):\n",
    "        best_sequence[i] = back[i+1][best_sequence[i+1]]\n",
    "\n",
    "    return best_sequence\n",
    "\n",
    "# Example usage\n",
    "n = 5  # Length of the sequence\n",
    "m = 3  # Number of possible values in the set S\n",
    "\n",
    "# Sample initial probabilities\n",
    "initial_probs = [0.2, 0.5, 0.3]\n",
    "\n",
    "# Sample transition probabilities\n",
    "transition_probs = [\n",
    "    [0.5, 0.2, 0.3],\n",
    "    [0.4, 0.4, 0.2],\n",
    "    [0.1, 0.3, 0.6]\n",
    "]\n",
    "\n",
    "best_sequence_indices = viterbi_algorithm(n, m, initial_probs, transition_probs)\n",
    "print(\"Best sequence indices:\", best_sequence_indices)"
   ]
  },
  {
   "cell_type": "code",
   "execution_count": 3,
   "metadata": {},
   "outputs": [
    {
     "name": "stdout",
     "output_type": "stream",
     "text": [
      "Optimal sequence: [1, 0, 1, 0, 1]\n",
      "Maximum probability: 0.0288\n"
     ]
    }
   ],
   "source": [
    "def max_probability_sequence(P_initial, P_transition, n, m):\n",
    "    # Initialize the dp table\n",
    "    dp = [[0] * m for _ in range(n)]\n",
    "    backtrack = [[0] * m for _ in range(n)]\n",
    "    \n",
    "    # Initialize the first row of dp with initial probabilities\n",
    "    for v in range(m):\n",
    "        dp[0][v] = P_initial[v]\n",
    "    \n",
    "    # Fill the dp table\n",
    "    for i in range(1, n):\n",
    "        for u in range(m):\n",
    "            max_prob = 0\n",
    "            max_state = 0\n",
    "            for v in range(m):\n",
    "                prob = dp[i-1][v] * P_transition[v][u]\n",
    "                if prob > max_prob:\n",
    "                    max_prob = prob\n",
    "                    max_state = v\n",
    "            dp[i][u] = max_prob\n",
    "            backtrack[i][u] = max_state\n",
    "    \n",
    "    # Find the maximum probability in the last row\n",
    "    max_final_prob = 0\n",
    "    last_state = 0\n",
    "    for v in range(m):\n",
    "        if dp[n-1][v] > max_final_prob:\n",
    "            max_final_prob = dp[n-1][v]\n",
    "            last_state = v\n",
    "    \n",
    "    # Backtrack to find the optimal sequence\n",
    "    sequence = [0] * n\n",
    "    sequence[n-1] = last_state\n",
    "    for i in range(n-2, -1, -1):\n",
    "        sequence[i] = backtrack[i+1][sequence[i+1]]\n",
    "    \n",
    "    return sequence, max_final_prob\n",
    "\n",
    "# Example usage:\n",
    "P_initial = [0.2, 0.5, 0.3]  # Example initial probabilities for m=3\n",
    "P_transition = [\n",
    "    [0.1, 0.6, 0.3],\n",
    "    [0.4, 0.3, 0.3],\n",
    "    [0.5, 0.2, 0.3]\n",
    "]  # Example transition probabilities for m=3\n",
    "n = 5  # Length of the sequence\n",
    "m = 3  # Number of states\n",
    "\n",
    "sequence, max_prob = max_probability_sequence(P_initial, P_transition, n, m)\n",
    "print(\"Optimal sequence:\", sequence)\n",
    "print(\"Maximum probability:\", max_prob)"
   ]
  },
  {
   "cell_type": "code",
   "execution_count": null,
   "metadata": {},
   "outputs": [],
   "source": []
  }
 ],
 "metadata": {
  "kernelspec": {
   "display_name": "Python 3",
   "language": "python",
   "name": "python3"
  },
  "language_info": {
   "codemirror_mode": {
    "name": "ipython",
    "version": 3
   },
   "file_extension": ".py",
   "mimetype": "text/x-python",
   "name": "python",
   "nbconvert_exporter": "python",
   "pygments_lexer": "ipython3",
   "version": "3.11.9"
  }
 },
 "nbformat": 4,
 "nbformat_minor": 2
}
