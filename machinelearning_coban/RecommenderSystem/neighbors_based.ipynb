{
 "cells": [
  {
   "cell_type": "code",
   "execution_count": 14,
   "id": "af9fc47d",
   "metadata": {},
   "outputs": [],
   "source": [
    "import pandas as pd \n",
    "import numpy as np\n",
    "from sklearn.metrics.pairwise import cosine_similarity\n",
    "from scipy import sparse \n",
    "\n",
    "class CF(object):\n",
    "    \"\"\"docstring for CF\"\"\"\n",
    "    def __init__(self, Y_data, k, dist_func = cosine_similarity, uuCF = 1):\n",
    "        self.uuCF = uuCF # user-user (1) or item-item (0) CF\n",
    "        self.Y_data = Y_data if uuCF else Y_data[:, [1, 0, 2]]\n",
    "        self.k = k # number of neighbor points\n",
    "        self.dist_func = dist_func\n",
    "        self.Ybar_data = None\n",
    "        # number of users and items. Remember to add 1 since id starts from 0\n",
    "        self.n_users = int(np.max(self.Y_data[:, 0])) + 1 \n",
    "        self.n_items = int(np.max(self.Y_data[:, 1])) + 1\n",
    "    def add(self, new_data):\n",
    "        \"\"\"\n",
    "        Update Y_data matrix when new ratings come.\n",
    "        For simplicity, suppose that there is no new user or item.\n",
    "        \"\"\"\n",
    "        self.Y_data = np.concatenate((self.Y_data, new_data), axis = 0)\n",
    "    def normalize_Y(self):\n",
    "        users = self.Y_data[:, 0] # all users - first col of the Y_data\n",
    "        self.Ybar_data = self.Y_data.copy()\n",
    "        self.mu = np.zeros((self.n_users,))\n",
    "        for n in range(self.n_users):\n",
    "            # row indices of rating done by user n\n",
    "            # since indices need to be integers, we need to convert\n",
    "            ids = np.where(users == n)[0].astype(np.int32)\n",
    "            # indices of all ratings associated with user n\n",
    "            item_ids = self.Y_data[ids, 1] \n",
    "            # and the corresponding ratings \n",
    "            ratings = self.Y_data[ids, 2]\n",
    "            # take mean\n",
    "            m = np.mean(ratings) \n",
    "            if np.isnan(m):\n",
    "                m = 0 # to avoid empty array and nan value\n",
    "            self.mu[n] = m\n",
    "            # normalize\n",
    "            \n",
    "            self.Ybar_data[ids, 2] = ratings - self.mu[n]\n",
    "\n",
    "        ################################################\n",
    "        # form the rating matrix as a sparse matrix. Sparsity is important \n",
    "        # for both memory and computing efficiency. For example, if #user = 1M, \n",
    "        # #item = 100k, then shape of the rating matrix would be (100k, 1M), \n",
    "        # you may not have enough memory to store this. Then, instead, we store \n",
    "        # nonzeros only, and, of course, their locations.\n",
    "        self.Ybar = sparse.coo_matrix((self.Ybar_data[:, 2],\n",
    "            (self.Ybar_data[:, 1], self.Ybar_data[:, 0])), (self.n_items, self.n_users))\n",
    "        self.Ybar = self.Ybar.tocsr()\n",
    "\n",
    "    def similarity(self):\n",
    "        self.S = self.dist_func(self.Ybar.T, self.Ybar.T)\n",
    "    def refresh(self):\n",
    "        \"\"\"\n",
    "        Normalize data and calculate similarity matrix again (after\n",
    "        some few ratings added)\n",
    "        \"\"\"\n",
    "        self.normalize_Y()\n",
    "        self.similarity() \n",
    "        \n",
    "    def fit(self):\n",
    "        self.refresh()\n",
    "    def __pred(self, u, i, normalized = 1):\n",
    "        \"\"\" \n",
    "        predict the rating of user u for item i (normalized)\n",
    "        if you need the un\n",
    "        \"\"\"\n",
    "        # Step 1: find all users who rated i\n",
    "        ids = np.where(self.Y_data[:, 1] == i)[0].astype(np.int32)\n",
    "        # Step 2: \n",
    "        users_rated_i = (self.Y_data[ids, 0]).astype(np.int32)\n",
    "        # Step 3: find similarity btw the current user and others \n",
    "    # who already rated i\n",
    "        sim = self.S[u, users_rated_i]\n",
    "        # Step 4: find the k most similarity users\n",
    "        a = np.argsort(sim)[-self.k:] \n",
    "        # and the corresponding similarity levels\n",
    "        nearest_s = sim[a]\n",
    "        # How did each of 'near' users rated item i\n",
    "        r = self.Ybar[i, users_rated_i[a]]\n",
    "        if normalized:\n",
    "            # add a small number, for instance, 1e-8, to avoid dividing by 0\n",
    "            return (r*nearest_s)[0]/(np.abs(nearest_s).sum() + 1e-8)\n",
    "\n",
    "        return (r*nearest_s)[0]/(np.abs(nearest_s).sum() + 1e-8) + self.mu[u]\n",
    "\n",
    "\n",
    "    def pred(self, u, i, normalized = 1):\n",
    "        \"\"\" \n",
    "        predict the rating of user u for item i (normalized)\n",
    "        if you need the un\n",
    "        \"\"\"\n",
    "        if self.uuCF: return self.__pred(u, i, normalize)\n",
    "        return self.__pred(i, u, normalize)\n",
    "    \n",
    "    def recommend(self, u, normalized = 1):\n",
    "        \"\"\"\n",
    "        Determine all items should be recommended for user u. (uuCF =1)\n",
    "        or all users who might have interest on item u (uuCF = 0)\n",
    "        The decision is made based on all i such that:\n",
    "        self.pred(u, i) > 0. Suppose we are considering items which \n",
    "        have not been rated by u yet. \n",
    "        \"\"\"\n",
    "        ids = np.where(self.Y_data[:, 0] == u)[0]\n",
    "        items_rated_by_u = self.Y_data[ids, 1].tolist()              \n",
    "        recommended_items = []\n",
    "        for i in range(self.n_items):\n",
    "            if i not in items_rated_by_u:\n",
    "                    rating = self.__pred(u, i)\n",
    "                    if rating > 0: \n",
    "                        recommended_items.append(i)\n",
    "            \n",
    "        return recommended_items \n",
    "        \n",
    "    def print_recommendation(self):\n",
    "        \"\"\"\n",
    "        print all items which should be recommended for each user \n",
    "        \"\"\"\n",
    "        print ('Recommendation: ')\n",
    "        for u in range(self.n_users):\n",
    "            recommended_items = self.recommend(u)\n",
    "            if self.uuCF:\n",
    "                print ('    Recommend item(s):', recommended_items, 'to user', u)\n",
    "            else: \n",
    "                print ('    Recommend item', u, 'to user(s) : ', recommended_items)"
   ]
  },
  {
   "cell_type": "code",
   "execution_count": 15,
   "id": "01e2e37c",
   "metadata": {},
   "outputs": [
    {
     "name": "stdout",
     "output_type": "stream",
     "text": [
      "Recommendation: \n",
      "    Recommend item(s): [2] to user 0\n",
      "    Recommend item(s): [1] to user 1\n",
      "    Recommend item(s): [] to user 2\n",
      "    Recommend item(s): [4] to user 3\n",
      "    Recommend item(s): [4] to user 4\n",
      "    Recommend item(s): [0, 3, 4] to user 5\n",
      "    Recommend item(s): [1] to user 6\n"
     ]
    }
   ],
   "source": [
    "# data file \n",
    "r_cols = ['user_id', 'item_id', 'rating']\n",
    "ratings = pd.read_csv('ex.dat', sep = ' ', names = r_cols, encoding='latin-1')\n",
    "Y_data = ratings.to_numpy()\n",
    "\n",
    "rs = CF(Y_data, k = 2, uuCF = 1)\n",
    "rs.fit()\n",
    "\n",
    "rs.print_recommendation()"
   ]
  },
  {
   "cell_type": "code",
   "execution_count": 16,
   "id": "3dbdcde2",
   "metadata": {},
   "outputs": [
    {
     "data": {
      "text/html": [
       "<div>\n",
       "<style scoped>\n",
       "    .dataframe tbody tr th:only-of-type {\n",
       "        vertical-align: middle;\n",
       "    }\n",
       "\n",
       "    .dataframe tbody tr th {\n",
       "        vertical-align: top;\n",
       "    }\n",
       "\n",
       "    .dataframe thead th {\n",
       "        text-align: right;\n",
       "    }\n",
       "</style>\n",
       "<table border=\"1\" class=\"dataframe\">\n",
       "  <thead>\n",
       "    <tr style=\"text-align: right;\">\n",
       "      <th></th>\n",
       "      <th>user_id</th>\n",
       "      <th>item_id</th>\n",
       "      <th>rating</th>\n",
       "    </tr>\n",
       "  </thead>\n",
       "  <tbody>\n",
       "    <tr>\n",
       "      <th>0</th>\n",
       "      <td>0</td>\n",
       "      <td>0</td>\n",
       "      <td>5.0</td>\n",
       "    </tr>\n",
       "    <tr>\n",
       "      <th>1</th>\n",
       "      <td>0</td>\n",
       "      <td>1</td>\n",
       "      <td>4.0</td>\n",
       "    </tr>\n",
       "    <tr>\n",
       "      <th>2</th>\n",
       "      <td>0</td>\n",
       "      <td>3</td>\n",
       "      <td>2.0</td>\n",
       "    </tr>\n",
       "    <tr>\n",
       "      <th>3</th>\n",
       "      <td>0</td>\n",
       "      <td>4</td>\n",
       "      <td>2.0</td>\n",
       "    </tr>\n",
       "    <tr>\n",
       "      <th>4</th>\n",
       "      <td>1</td>\n",
       "      <td>0</td>\n",
       "      <td>5.0</td>\n",
       "    </tr>\n",
       "    <tr>\n",
       "      <th>5</th>\n",
       "      <td>1</td>\n",
       "      <td>2</td>\n",
       "      <td>4.0</td>\n",
       "    </tr>\n",
       "    <tr>\n",
       "      <th>6</th>\n",
       "      <td>1</td>\n",
       "      <td>3</td>\n",
       "      <td>2.0</td>\n",
       "    </tr>\n",
       "    <tr>\n",
       "      <th>7</th>\n",
       "      <td>1</td>\n",
       "      <td>4</td>\n",
       "      <td>0.0</td>\n",
       "    </tr>\n",
       "    <tr>\n",
       "      <th>8</th>\n",
       "      <td>2</td>\n",
       "      <td>0</td>\n",
       "      <td>2.0</td>\n",
       "    </tr>\n",
       "    <tr>\n",
       "      <th>9</th>\n",
       "      <td>2</td>\n",
       "      <td>2</td>\n",
       "      <td>1.0</td>\n",
       "    </tr>\n",
       "    <tr>\n",
       "      <th>10</th>\n",
       "      <td>2</td>\n",
       "      <td>3</td>\n",
       "      <td>3.0</td>\n",
       "    </tr>\n",
       "    <tr>\n",
       "      <th>11</th>\n",
       "      <td>2</td>\n",
       "      <td>4</td>\n",
       "      <td>4.0</td>\n",
       "    </tr>\n",
       "    <tr>\n",
       "      <th>12</th>\n",
       "      <td>3</td>\n",
       "      <td>0</td>\n",
       "      <td>0.0</td>\n",
       "    </tr>\n",
       "    <tr>\n",
       "      <th>13</th>\n",
       "      <td>3</td>\n",
       "      <td>1</td>\n",
       "      <td>0.0</td>\n",
       "    </tr>\n",
       "    <tr>\n",
       "      <th>14</th>\n",
       "      <td>3</td>\n",
       "      <td>3</td>\n",
       "      <td>4.0</td>\n",
       "    </tr>\n",
       "    <tr>\n",
       "      <th>15</th>\n",
       "      <td>4</td>\n",
       "      <td>0</td>\n",
       "      <td>1.0</td>\n",
       "    </tr>\n",
       "    <tr>\n",
       "      <th>16</th>\n",
       "      <td>4</td>\n",
       "      <td>3</td>\n",
       "      <td>4.0</td>\n",
       "    </tr>\n",
       "    <tr>\n",
       "      <th>17</th>\n",
       "      <td>5</td>\n",
       "      <td>1</td>\n",
       "      <td>2.0</td>\n",
       "    </tr>\n",
       "    <tr>\n",
       "      <th>18</th>\n",
       "      <td>5</td>\n",
       "      <td>2</td>\n",
       "      <td>1.0</td>\n",
       "    </tr>\n",
       "    <tr>\n",
       "      <th>19</th>\n",
       "      <td>6</td>\n",
       "      <td>2</td>\n",
       "      <td>1.0</td>\n",
       "    </tr>\n",
       "    <tr>\n",
       "      <th>20</th>\n",
       "      <td>6</td>\n",
       "      <td>3</td>\n",
       "      <td>4.0</td>\n",
       "    </tr>\n",
       "    <tr>\n",
       "      <th>21</th>\n",
       "      <td>6</td>\n",
       "      <td>4</td>\n",
       "      <td>5.0</td>\n",
       "    </tr>\n",
       "  </tbody>\n",
       "</table>\n",
       "</div>"
      ],
      "text/plain": [
       "    user_id  item_id  rating\n",
       "0         0        0     5.0\n",
       "1         0        1     4.0\n",
       "2         0        3     2.0\n",
       "3         0        4     2.0\n",
       "4         1        0     5.0\n",
       "5         1        2     4.0\n",
       "6         1        3     2.0\n",
       "7         1        4     0.0\n",
       "8         2        0     2.0\n",
       "9         2        2     1.0\n",
       "10        2        3     3.0\n",
       "11        2        4     4.0\n",
       "12        3        0     0.0\n",
       "13        3        1     0.0\n",
       "14        3        3     4.0\n",
       "15        4        0     1.0\n",
       "16        4        3     4.0\n",
       "17        5        1     2.0\n",
       "18        5        2     1.0\n",
       "19        6        2     1.0\n",
       "20        6        3     4.0\n",
       "21        6        4     5.0"
      ]
     },
     "execution_count": 16,
     "metadata": {},
     "output_type": "execute_result"
    }
   ],
   "source": [
    "ratings"
   ]
  },
  {
   "cell_type": "code",
   "execution_count": 17,
   "id": "17d7bf75",
   "metadata": {},
   "outputs": [
    {
     "data": {
      "text/plain": [
       "array([[ 0.        ,  0.        ,  1.75      ],\n",
       "       [ 0.        ,  1.        ,  0.75      ],\n",
       "       [ 0.        ,  3.        , -1.25      ],\n",
       "       [ 0.        ,  4.        , -1.25      ],\n",
       "       [ 1.        ,  0.        ,  2.25      ],\n",
       "       [ 1.        ,  2.        ,  1.25      ],\n",
       "       [ 1.        ,  3.        , -0.75      ],\n",
       "       [ 1.        ,  4.        , -2.75      ],\n",
       "       [ 2.        ,  0.        , -0.5       ],\n",
       "       [ 2.        ,  2.        , -1.5       ],\n",
       "       [ 2.        ,  3.        ,  0.5       ],\n",
       "       [ 2.        ,  4.        ,  1.5       ],\n",
       "       [ 3.        ,  0.        , -1.33333333],\n",
       "       [ 3.        ,  1.        , -1.33333333],\n",
       "       [ 3.        ,  3.        ,  2.66666667],\n",
       "       [ 4.        ,  0.        , -1.5       ],\n",
       "       [ 4.        ,  3.        ,  1.5       ],\n",
       "       [ 5.        ,  1.        ,  0.5       ],\n",
       "       [ 5.        ,  2.        , -0.5       ],\n",
       "       [ 6.        ,  2.        , -2.33333333],\n",
       "       [ 6.        ,  3.        ,  0.66666667],\n",
       "       [ 6.        ,  4.        ,  1.66666667]])"
      ]
     },
     "execution_count": 17,
     "metadata": {},
     "output_type": "execute_result"
    }
   ],
   "source": [
    "rs.Ybar_data"
   ]
  },
  {
   "cell_type": "code",
   "execution_count": 18,
   "id": "1aca03ab",
   "metadata": {},
   "outputs": [
    {
     "data": {
      "text/plain": [
       "array([[0., 0., 5.],\n",
       "       [0., 1., 4.],\n",
       "       [0., 3., 2.],\n",
       "       [0., 4., 2.],\n",
       "       [1., 0., 5.],\n",
       "       [1., 2., 4.],\n",
       "       [1., 3., 2.],\n",
       "       [1., 4., 0.],\n",
       "       [2., 0., 2.],\n",
       "       [2., 2., 1.],\n",
       "       [2., 3., 3.],\n",
       "       [2., 4., 4.],\n",
       "       [3., 0., 0.],\n",
       "       [3., 1., 0.],\n",
       "       [3., 3., 4.],\n",
       "       [4., 0., 1.],\n",
       "       [4., 3., 4.],\n",
       "       [5., 1., 2.],\n",
       "       [5., 2., 1.],\n",
       "       [6., 2., 1.],\n",
       "       [6., 3., 4.],\n",
       "       [6., 4., 5.]])"
      ]
     },
     "execution_count": 18,
     "metadata": {},
     "output_type": "execute_result"
    }
   ],
   "source": [
    "rs.Y_data"
   ]
  },
  {
   "cell_type": "code",
   "execution_count": 4,
   "id": "9e5ffe33",
   "metadata": {},
   "outputs": [
    {
     "data": {
      "text/plain": [
       "(5, 7)"
      ]
     },
     "execution_count": 4,
     "metadata": {},
     "output_type": "execute_result"
    }
   ],
   "source": [
    "rs.Ybar.shape"
   ]
  },
  {
   "cell_type": "code",
   "execution_count": 5,
   "id": "2906e784",
   "metadata": {},
   "outputs": [
    {
     "data": {
      "text/plain": [
       "scipy.sparse._csr.csr_matrix"
      ]
     },
     "execution_count": 5,
     "metadata": {},
     "output_type": "execute_result"
    }
   ],
   "source": [
    "type ( rs.Ybar)"
   ]
  },
  {
   "cell_type": "code",
   "execution_count": 6,
   "id": "b8df1e87",
   "metadata": {},
   "outputs": [
    {
     "data": {
      "text/plain": [
       "array([[5., 5., 2., 0., 1., 0., 0.],\n",
       "       [4., 0., 0., 0., 0., 2., 0.],\n",
       "       [0., 4., 1., 0., 0., 1., 1.],\n",
       "       [2., 2., 3., 4., 4., 0., 4.],\n",
       "       [2., 0., 4., 0., 0., 0., 5.]])"
      ]
     },
     "execution_count": 6,
     "metadata": {},
     "output_type": "execute_result"
    }
   ],
   "source": [
    "rs.Ybar.toarray()"
   ]
  },
  {
   "cell_type": "code",
   "execution_count": 7,
   "id": "5939aeef",
   "metadata": {},
   "outputs": [
    {
     "data": {
      "text/plain": [
       "array([[1.        , 0.61758068, 0.62596864, 0.28571429, 0.4504233 ,\n",
       "        0.51110125, 0.39678004],\n",
       "       [0.61758068, 1.        , 0.54433105, 0.2981424 , 0.47001599,\n",
       "        0.26666667, 0.27602622],\n",
       "       [0.62596864, 0.54433105, 1.        , 0.54772256, 0.61993042,\n",
       "        0.08164966, 0.92966968],\n",
       "       [0.28571429, 0.2981424 , 0.54772256, 1.        , 0.9701425 ,\n",
       "        0.        , 0.6172134 ],\n",
       "       [0.4504233 , 0.47001599, 0.61993042, 0.9701425 , 1.        ,\n",
       "        0.        , 0.59878495],\n",
       "       [0.51110125, 0.26666667, 0.08164966, 0.        , 0.        ,\n",
       "        1.        , 0.06900656],\n",
       "       [0.39678004, 0.27602622, 0.92966968, 0.6172134 , 0.59878495,\n",
       "        0.06900656, 1.        ]])"
      ]
     },
     "execution_count": 7,
     "metadata": {},
     "output_type": "execute_result"
    }
   ],
   "source": [
    "rs.S"
   ]
  },
  {
   "cell_type": "code",
   "execution_count": 8,
   "id": "292d799f",
   "metadata": {},
   "outputs": [],
   "source": [
    "pd.DataFrame(rs.Ybar.toarray()).to_clipboard()"
   ]
  },
  {
   "cell_type": "code",
   "execution_count": 9,
   "id": "66e7e6e7",
   "metadata": {},
   "outputs": [],
   "source": [
    "pd.DataFrame(rs.S).to_clipboard()"
   ]
  },
  {
   "cell_type": "code",
   "execution_count": null,
   "id": "59c6a833",
   "metadata": {},
   "outputs": [],
   "source": []
  }
 ],
 "metadata": {
  "kernelspec": {
   "display_name": "Python 3",
   "language": "python",
   "name": "python3"
  },
  "language_info": {
   "codemirror_mode": {
    "name": "ipython",
    "version": 3
   },
   "file_extension": ".py",
   "mimetype": "text/x-python",
   "name": "python",
   "nbconvert_exporter": "python",
   "pygments_lexer": "ipython3",
   "version": "3.11.9"
  }
 },
 "nbformat": 4,
 "nbformat_minor": 5
}
