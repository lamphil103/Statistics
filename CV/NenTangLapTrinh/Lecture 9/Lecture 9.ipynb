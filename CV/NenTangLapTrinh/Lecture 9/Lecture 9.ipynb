{
 "cells": [
  {
   "cell_type": "markdown",
   "metadata": {},
   "source": [
    "# Lecture 09 :\n",
    "\n",
    "- #### Thực hành Phân tích dữ liệu với tập dữ liệu Titanic\n",
    "    - #### 1. Đọc và kiểm tra dữ liệu\n",
    "    - #### 2. Tiền xử lý dữ liệu\n",
    "    - #### 3. Thống kê mô tả và Phân tích khám phá (EDA)\n",
    "    - #### 4. Xây dựng mô hình dự đoán \n",
    "        - ##### 4.1 Mô hình Logistic Regression\n",
    "        - ##### 4.2 Chuẩn bị dữ liệu cho mô hình\n",
    "        - ##### 4.3 Huấn luyện mô hình\n",
    "        - ##### 4.4 Dùng mô hình để dự đoán\n",
    "        - ##### 4.5 Đánh giá mô hình\n",
    "        \n"
   ]
  },
  {
   "cell_type": "markdown",
   "metadata": {},
   "source": [
    "<img src=\"images\\titanic.jpg\" width=600 height=400 />\n",
    "\n",
    "Vụ chìm tàu Titanic là một trong những vụ đắm tàu khét tiếng nhất trong lịch sử.\n",
    "\n",
    "Vào ngày 15 tháng 4 năm 1912, trong chuyến hành trình đầu tiên của mình, con tàu RMS Titanic được nhiều người coi là “không thể chìm” đã chìm sau khi va chạm với một tảng băng trôi. Khi tai nạn xảy ra, không có đủ xuồng cứu sinh cho mọi người trên tàu, dẫn đến cái chết của 1502 trong số 2224 hành khách và thủy thủ đoàn.\n",
    "\n",
    "Mặc dù có một số yếu tố may mắn liên quan đến việc sống sót, nhưng có vẻ như một số nhóm người có nhiều khả năng sống sót hơn những nhóm khác.\n",
    "\n",
    "Trong bài này, chúng ta sẽ xây dựng một mô hình dự đoán để trả lời câu hỏi: \"Nhóm người nào có nhiều khả năng sống sót hơn?\" sử dụng dữ liệu hành khách (nghĩa là tên, tuổi, giới tính, tầng lớp kinh tế xã hội, v.v.).\n",
    "\n",
    "Cho tập dữ liệu Titanic (titanic.csv) : là tập dữ liệu thông tin về hành khách đã lên tàu titanic, và kết quả người người còn sống sót qua thảm kịch hay không. Có các trường dữ liệu như sau :\n",
    "- survival : Cuối cùng người này còn sống hay không , 0 = No, 1 = Yes\n",
    "- passengerId: mã số khách.\n",
    "- pclass : Hạng vé , 1 = Hạng cao, 2 = Hạng trung, 3 = Hạng thấp\n",
    "- sex :Giới tính\n",
    "- Age : Tuổi\n",
    "- sibsp :số người thân (anh chị em và chồng vợ) cùng tên tàu\n",
    "- parch : số người thân ( cha mẹ hoặc con cái ) cùng lên tàu\n",
    "- ticket : Mã vé tàu\n",
    "- fare : giá vé\n",
    "- cabin :số cabin\n",
    "- embarked : Địa điểm lên tàu, C = Cherbourg, Q = Queenstown, S = Southampton\n"
   ]
  },
  {
   "cell_type": "code",
   "execution_count": null,
   "metadata": {},
   "outputs": [],
   "source": []
  },
  {
   "cell_type": "code",
   "execution_count": null,
   "metadata": {},
   "outputs": [],
   "source": [
    "import pandas as pd\n",
    "import numpy as np\n",
    "import matplotlib.pyplot as plt\n",
    "import seaborn as sns"
   ]
  },
  {
   "cell_type": "markdown",
   "metadata": {},
   "source": [
    " ## 1. Đọc và kiểm tra dữ liệu"
   ]
  },
  {
   "cell_type": "code",
   "execution_count": null,
   "metadata": {},
   "outputs": [],
   "source": []
  },
  {
   "cell_type": "code",
   "execution_count": null,
   "metadata": {},
   "outputs": [],
   "source": []
  },
  {
   "cell_type": "markdown",
   "metadata": {},
   "source": [
    "- Kiểm tra dữ liệu"
   ]
  },
  {
   "cell_type": "code",
   "execution_count": null,
   "metadata": {},
   "outputs": [],
   "source": [
    "# In ra 5 dòng đầu\n"
   ]
  },
  {
   "cell_type": "code",
   "execution_count": null,
   "metadata": {},
   "outputs": [],
   "source": []
  },
  {
   "cell_type": "code",
   "execution_count": null,
   "metadata": {},
   "outputs": [],
   "source": []
  },
  {
   "cell_type": "markdown",
   "metadata": {},
   "source": [
    "- ## 2. Tiền xử lý dữ liệu"
   ]
  },
  {
   "cell_type": "markdown",
   "metadata": {},
   "source": [
    "- 🟢 Đổi kiểu dữ liệu phù hợp cho trường dữ liệu"
   ]
  },
  {
   "cell_type": "code",
   "execution_count": null,
   "metadata": {},
   "outputs": [],
   "source": [
    "# đổi kiểu dữ liệu của PassengerID thành string\n",
    "# Sử dụng hàm astype()\n"
   ]
  },
  {
   "cell_type": "code",
   "execution_count": null,
   "metadata": {},
   "outputs": [],
   "source": []
  },
  {
   "cell_type": "markdown",
   "metadata": {},
   "source": [
    "- 🟢 Xác định các biến liên tục, biến phân loại"
   ]
  },
  {
   "cell_type": "code",
   "execution_count": null,
   "metadata": {},
   "outputs": [],
   "source": [
    "df.columns"
   ]
  },
  {
   "cell_type": "code",
   "execution_count": null,
   "metadata": {},
   "outputs": [],
   "source": [
    "# xác định các biến liên tục\n",
    "#continuous_variables là list chứa tên các cột biến liên tục\n"
   ]
  },
  {
   "cell_type": "code",
   "execution_count": null,
   "metadata": {},
   "outputs": [],
   "source": [
    "# xác định các biến phân loại\n"
   ]
  },
  {
   "cell_type": "code",
   "execution_count": null,
   "metadata": {},
   "outputs": [],
   "source": []
  },
  {
   "cell_type": "markdown",
   "metadata": {},
   "source": [
    "- 🟢 Xử lí outliers và missing values"
   ]
  },
  {
   "cell_type": "code",
   "execution_count": null,
   "metadata": {},
   "outputs": [],
   "source": []
  },
  {
   "cell_type": "code",
   "execution_count": null,
   "metadata": {},
   "outputs": [],
   "source": [
    "# giải thích percentile\n"
   ]
  },
  {
   "cell_type": "code",
   "execution_count": null,
   "metadata": {},
   "outputs": [],
   "source": []
  },
  {
   "cell_type": "code",
   "execution_count": null,
   "metadata": {},
   "outputs": [],
   "source": []
  },
  {
   "cell_type": "code",
   "execution_count": null,
   "metadata": {},
   "outputs": [],
   "source": []
  },
  {
   "cell_type": "code",
   "execution_count": null,
   "metadata": {},
   "outputs": [],
   "source": [
    "# Dùng IQR để xem giá trị outlier\n",
    "# tính Quantile 1 (25% giá trị nhỏ nhất)\n"
   ]
  },
  {
   "cell_type": "code",
   "execution_count": null,
   "metadata": {},
   "outputs": [],
   "source": [
    "# tính Quantile 3 (75% giá trị nhỏ nhất)\n"
   ]
  },
  {
   "cell_type": "code",
   "execution_count": null,
   "metadata": {},
   "outputs": [],
   "source": []
  },
  {
   "cell_type": "code",
   "execution_count": null,
   "metadata": {},
   "outputs": [],
   "source": []
  },
  {
   "cell_type": "code",
   "execution_count": null,
   "metadata": {},
   "outputs": [],
   "source": []
  },
  {
   "cell_type": "code",
   "execution_count": null,
   "metadata": {},
   "outputs": [],
   "source": [
    "# Lọc ra khách hàng có tuổi lớn hơn upper\n",
    "# Ta không loại bỏ outliers, vì các giá trị ghi nhận theo ta nhận thấy là hợp lý, không có lỗi trong qá trình thu thập dữ liệu\n"
   ]
  },
  {
   "cell_type": "code",
   "execution_count": null,
   "metadata": {},
   "outputs": [],
   "source": [
    "# Lọc ra các dòng có Age bị null\n"
   ]
  },
  {
   "cell_type": "code",
   "execution_count": null,
   "metadata": {},
   "outputs": [],
   "source": []
  },
  {
   "cell_type": "code",
   "execution_count": null,
   "metadata": {},
   "outputs": [],
   "source": [
    "# điền missing values của \"Age\" là mean\n"
   ]
  },
  {
   "cell_type": "code",
   "execution_count": null,
   "metadata": {},
   "outputs": [],
   "source": [
    "# xem các dòng có Embarked null\n"
   ]
  },
  {
   "cell_type": "code",
   "execution_count": null,
   "metadata": {},
   "outputs": [],
   "source": [
    "# xem số lượng các Embarked khác nhau\n"
   ]
  },
  {
   "cell_type": "code",
   "execution_count": null,
   "metadata": {},
   "outputs": [],
   "source": [
    "# điền missing values của \"Embarked\" là S (giá trị phổ biến nhât)\n"
   ]
  },
  {
   "cell_type": "code",
   "execution_count": null,
   "metadata": {},
   "outputs": [],
   "source": []
  },
  {
   "cell_type": "code",
   "execution_count": null,
   "metadata": {},
   "outputs": [],
   "source": [
    "sns.set_theme(palette = \"Set1\")\n",
    "# phân bố của Age"
   ]
  },
  {
   "cell_type": "code",
   "execution_count": null,
   "metadata": {},
   "outputs": [],
   "source": [
    "# Phân bố của Fare\n"
   ]
  },
  {
   "cell_type": "markdown",
   "metadata": {},
   "source": [
    "## 3. Thống kê mô tả và Phân tích khám phá (Exploratory Data Analysis - EDA)"
   ]
  },
  {
   "cell_type": "code",
   "execution_count": null,
   "metadata": {},
   "outputs": [],
   "source": [
    "# thống kê mô tả cho các biến liên tục\n"
   ]
  },
  {
   "cell_type": "code",
   "execution_count": null,
   "metadata": {},
   "outputs": [],
   "source": [
    "# trả lời câu hỏi : Trong số những người sống sót, nam hay nữ nhiều hơn (cho số liệu):\n"
   ]
  },
  {
   "cell_type": "code",
   "execution_count": null,
   "metadata": {},
   "outputs": [],
   "source": [
    "# sử dụng catplot xem số người sống chết theo giới tính\n"
   ]
  },
  {
   "cell_type": "code",
   "execution_count": null,
   "metadata": {},
   "outputs": [],
   "source": [
    "# Biểu đồ stripplot thể hiện sự phân phố của Age theo Survived và Pclass\n"
   ]
  },
  {
   "cell_type": "markdown",
   "metadata": {},
   "source": [
    "- Nhận xét : Ta thấy ..."
   ]
  },
  {
   "cell_type": "code",
   "execution_count": null,
   "metadata": {},
   "outputs": [],
   "source": [
    "# trả lời câu hỏi : Trong số những người sống sót, số người của từng bến (Embarked - nơi hành khách lên tàu) là bao nhiêu\n"
   ]
  },
  {
   "cell_type": "code",
   "execution_count": null,
   "metadata": {},
   "outputs": [],
   "source": []
  },
  {
   "cell_type": "code",
   "execution_count": null,
   "metadata": {},
   "outputs": [],
   "source": []
  },
  {
   "cell_type": "code",
   "execution_count": null,
   "metadata": {},
   "outputs": [],
   "source": []
  },
  {
   "cell_type": "code",
   "execution_count": null,
   "metadata": {},
   "outputs": [],
   "source": [
    "#sử dụng catplot để xem số người sống chết theo Embarked\n",
    "\n",
    "        \n",
    "        "
   ]
  },
  {
   "cell_type": "code",
   "execution_count": null,
   "metadata": {},
   "outputs": [],
   "source": [
    "# trả lời câu hỏi : Trong số những người sống sót, số người của từng hạng giá vé là bao nhiêu (pclass )\n"
   ]
  },
  {
   "cell_type": "code",
   "execution_count": null,
   "metadata": {},
   "outputs": [],
   "source": [
    "# Sử dụng catplot để xem số người sống chết giữa 3 Pclass\n"
   ]
  },
  {
   "cell_type": "markdown",
   "metadata": {},
   "source": [
    "- Ma trận hệ số tương quan : Cho biết mối tương quan giữa các biến liên tục\n",
    "    - Nếu giá trị dương : nếu biến A tăng, biến B có xu hướng tăng và ngược lại\n",
    "    - Nếu giá trị âm : nếu biến A tăng, biến B có xu hướng giảm và ngược lại\n",
    "    - Các giá trị nhận từ -1 đến 1 , trị tuyệt đối càng lớn thì mối tương quan càng mạnh"
   ]
  },
  {
   "cell_type": "code",
   "execution_count": null,
   "metadata": {},
   "outputs": [],
   "source": [
    "# Tạo df_heatmap để vẽ heatmap gồm biến liên tục và Survived\n",
    "# Tạo correlation matrix - ma trận tương quan giữa các biến liên tục và Survived\n"
   ]
  },
  {
   "cell_type": "code",
   "execution_count": null,
   "metadata": {},
   "outputs": [],
   "source": [
    "df_corr"
   ]
  },
  {
   "cell_type": "code",
   "execution_count": null,
   "metadata": {},
   "outputs": [],
   "source": [
    "# tạo heatmap giữa các biến liên tục và Survived\n",
    "sns.heatmap(df_corr , annot = True, cmap = 'Oranges')"
   ]
  },
  {
   "cell_type": "markdown",
   "metadata": {},
   "source": [
    "## 4. Xây dựng mô hình dự đoán "
   ]
  },
  {
   "cell_type": "markdown",
   "metadata": {},
   "source": [
    "- ### 4.1 Chọn mô hình (Mô hình Logistic Regression)\n",
    "- ### 4.2 Chuẩn bị dữ liệu cho mô hình\n",
    "- ### 4.3 Huấn luyện mô hình\n",
    "- ### 4.4 Dùng mô hình để dự đoán\n",
    "- ### 4.5 Đánh giá mô hình\n",
    "        "
   ]
  },
  {
   "cell_type": "markdown",
   "metadata": {},
   "source": [
    "### 🟢 4.1 Chọn mô hình (Mô hình Logistic Regression)\n",
    "\n",
    "\n",
    "<img src=\"images\\logistic_regression1.PNG\" width=800 height=600 />\n",
    "- Logistic Regression là một mô hình dữ đoán dùng để dự đoán kết quả Có/Không, Đúng/Sai, Được/Không được, Sống/Chết...\n",
    "- Phương trình mô hình :\n",
    "$$ \\hat{z} = w_0  + w_1.X_1 + w_2.X_2 + w_3.X_3 ...$$\n",
    "$$ \\rightarrow \\hat{Y} = \\sigma(\\hat{z}) = \\begin{cases}\n",
    "    0  \\\\\n",
    "    1 \n",
    "  \\end{cases} $$\n",
    "\n",
    "Trong đó : \n",
    "    - $\\hat{z}$ : là biến được dự đoán (output - predicted variable) - chỉ nhận giá trị từ 0 đến 1 - khi đi qua hàm sigmoid fuction \\sigma ta được \\hat{Y} đưa về giá trị 0 hoặc 1\n",
    "    - $X_1,X_2,X_3...$ là các biến dùng để dự đoán (input - preditors) , các biến này phải ở dạng numeric\n",
    "    - $w_1,w_2,w_3...$ là các trọng số ta cần đi tìm cho mô hình, nó thể hiện sự ảnh hưởng của biến X tương ứng đó lên biến Y\n",
    "    \n",
    "<img src=\"images\\logistic_regression2.jpg\" width=800 height=600 />"
   ]
  },
  {
   "cell_type": "markdown",
   "metadata": {},
   "source": [
    "### 4.2 Chuẩn bị dữ liệu cho mô hình"
   ]
  },
  {
   "cell_type": "markdown",
   "metadata": {},
   "source": [
    "1. Ta cần đưa các biến phân loại thành các biến liên tục bằng phương pháp tạo thuộc tính (tạo dummy variables)\n",
    "2. Ta xác định các biến dùng để dự đoán $X_1,X_2,...$, (input-predictors) , và xác định biến $Y$ output\n",
    "3. Ta tách tập dữ liệu ra thành **training set** ( tập dùng để huấn luyện mô hình) và **testing set** ( tập dùng để kiểm tra mô hình )\n",
    "\n",
    "<img src=\"images\\train_test_split.jpg\" width=800 height=600 />\n"
   ]
  },
  {
   "cell_type": "markdown",
   "metadata": {},
   "source": [
    "- Tạo thuộc tính (biến dummy)"
   ]
  },
  {
   "cell_type": "code",
   "execution_count": null,
   "metadata": {},
   "outputs": [],
   "source": []
  },
  {
   "cell_type": "code",
   "execution_count": null,
   "metadata": {},
   "outputs": [],
   "source": [
    "# get_dummy cho \"Embarked\" \n"
   ]
  },
  {
   "cell_type": "code",
   "execution_count": null,
   "metadata": {},
   "outputs": [],
   "source": []
  },
  {
   "cell_type": "code",
   "execution_count": null,
   "metadata": {},
   "outputs": [],
   "source": [
    "# get_dummy cho \"Sex\" \n"
   ]
  },
  {
   "cell_type": "code",
   "execution_count": null,
   "metadata": {},
   "outputs": [],
   "source": []
  },
  {
   "cell_type": "code",
   "execution_count": null,
   "metadata": {},
   "outputs": [],
   "source": [
    "# get_dummy cho \"Pclass\" \n"
   ]
  },
  {
   "cell_type": "code",
   "execution_count": null,
   "metadata": {},
   "outputs": [],
   "source": []
  },
  {
   "cell_type": "markdown",
   "metadata": {},
   "source": [
    "- Chọn các trường dữ liệu cần thiết để xây dựng mô hình"
   ]
  },
  {
   "cell_type": "code",
   "execution_count": null,
   "metadata": {},
   "outputs": [],
   "source": []
  },
  {
   "cell_type": "code",
   "execution_count": null,
   "metadata": {},
   "outputs": [],
   "source": [
    "# Các biến X ( biến dùng đề dự đoán - biến tiên lượng - predictors)\n",
    "# df_X là dataframe gồm các biên dùng để dự đoán\n"
   ]
  },
  {
   "cell_type": "code",
   "execution_count": null,
   "metadata": {},
   "outputs": [],
   "source": []
  },
  {
   "cell_type": "code",
   "execution_count": null,
   "metadata": {},
   "outputs": [],
   "source": [
    "# biến Y (biến dự đoán - predicted )\n"
   ]
  },
  {
   "cell_type": "code",
   "execution_count": null,
   "metadata": {},
   "outputs": [],
   "source": []
  },
  {
   "cell_type": "markdown",
   "metadata": {},
   "source": [
    "- Tách tập dữ liệu ra thành Training Set và Testing Set "
   ]
  },
  {
   "cell_type": "code",
   "execution_count": null,
   "metadata": {},
   "outputs": [],
   "source": [
    "# from sklearn.model_selection import train_test_split"
   ]
  },
  {
   "cell_type": "code",
   "execution_count": null,
   "metadata": {},
   "outputs": [],
   "source": []
  },
  {
   "cell_type": "code",
   "execution_count": null,
   "metadata": {},
   "outputs": [],
   "source": []
  },
  {
   "cell_type": "code",
   "execution_count": null,
   "metadata": {},
   "outputs": [],
   "source": [
    "y_train"
   ]
  },
  {
   "cell_type": "markdown",
   "metadata": {},
   "source": [
    "### 🟢 4.3 Huấn luyện mô hình"
   ]
  },
  {
   "cell_type": "code",
   "execution_count": null,
   "metadata": {},
   "outputs": [],
   "source": [
    "# import thư viện  : from sklearn.linear_model import LogisticRegression\n"
   ]
  },
  {
   "cell_type": "code",
   "execution_count": null,
   "metadata": {},
   "outputs": [],
   "source": [
    "# tạo mô hình\n"
   ]
  },
  {
   "cell_type": "code",
   "execution_count": null,
   "metadata": {},
   "outputs": [],
   "source": [
    "# dùng hàm fit() để huấn luyện mô hình vơi tập training set\n"
   ]
  },
  {
   "cell_type": "code",
   "execution_count": null,
   "metadata": {},
   "outputs": [],
   "source": [
    "X_train.columns"
   ]
  },
  {
   "cell_type": "code",
   "execution_count": null,
   "metadata": {},
   "outputs": [],
   "source": [
    "# Xem các trọng số để xem sự ảnh hưởng của các biến X lên Y\n",
    "# sử dụng thuộc tính coef_\n"
   ]
  },
  {
   "cell_type": "code",
   "execution_count": null,
   "metadata": {},
   "outputs": [],
   "source": [
    "# xem hệ số chặn intercept_"
   ]
  },
  {
   "cell_type": "markdown",
   "metadata": {},
   "source": [
    "##### 4.4 Dùng mô hình để dự đoán"
   ]
  },
  {
   "cell_type": "code",
   "execution_count": null,
   "metadata": {},
   "outputs": [],
   "source": [
    "# tạo y_predict là array các kết quả dự đoán cho X_test\n"
   ]
  },
  {
   "cell_type": "code",
   "execution_count": null,
   "metadata": {},
   "outputs": [],
   "source": []
  },
  {
   "cell_type": "code",
   "execution_count": null,
   "metadata": {},
   "outputs": [],
   "source": []
  },
  {
   "cell_type": "code",
   "execution_count": null,
   "metadata": {},
   "outputs": [],
   "source": []
  },
  {
   "cell_type": "markdown",
   "metadata": {},
   "source": [
    "##### 4.5 Đánh giá mô hình"
   ]
  },
  {
   "cell_type": "markdown",
   "metadata": {},
   "source": [
    "Confusion matrix được dùng để đánh giá mô hình Logistic Regression, bao gồm các giá trị :\n",
    "- True Positive : Positive outcome is correctly predicted as positive.\n",
    "(Ta dự đoán là `Dương tính`, và trên thực tế đúng là `Dương tính`)\n",
    "- True Negative : Negative outcome is correctly predicted as negative.\n",
    "(Ta dự đoán là `Âm tính`, và trên thực tế đúng là `Âm tính`)\n",
    "- False Positive: Negative outcome is wrongly predicted as positive.\n",
    "(Ta dự đoán là `Dương tính`, và ta dự đoán sai vì trên thực tế là `Âm tính`)\n",
    "- False Negative: Positive outcome is wrongly predicted as negative.\n",
    "(Ta dự đoán là `Âm tính`, và ta dự đoán sai vì trên thực tế là `Dương tính`)\n",
    "\n",
    "<img src=\"images\\confusion-matrix-in-python.jpg\" width=400 height=300 />\n",
    "\n",
    "\n",
    "- Accuracy : It is correctly predicted outcome to total outcomes.<br>\n",
    "`Accuracy = (TP+TN)/(TP+FP+FN+TN)`.<br>\n",
    "- Precision : It tells us if we have predicted a positive outcome, how much we are sure it will be true positive. In mathematicaly we can say, it is the proportion of true positive on all positives predictions.<br>\n",
    "`Precision = TP/(TP+FP)`.<br>\n",
    "- Recall : It is the proportion of true positives on all actual positive elements. Recall is also known as true positive rate..<br>\n",
    "   `Recall = TP/(TP+FN)`"
   ]
  },
  {
   "cell_type": "code",
   "execution_count": null,
   "metadata": {},
   "outputs": [],
   "source": [
    "# import các thư viện kiểm định mô hình\n",
    "# from sklearn.metrics import confusion_matrix\n",
    "# from sklearn import metrics"
   ]
  },
  {
   "cell_type": "code",
   "execution_count": null,
   "metadata": {},
   "outputs": [],
   "source": [
    "# tạo confusion matrix trên y_test và y_predict\n"
   ]
  },
  {
   "cell_type": "code",
   "execution_count": null,
   "metadata": {},
   "outputs": [],
   "source": [
    "print('Accuracy of Logistic Regression model is  : ', (metrics.accuracy_score(y_test, y_predict)))\n",
    "print('Recall of Logistic Regression model is    : ', (metrics.recall_score(y_test, y_predict)))\n",
    "print('Precision of Logistic Regression model is : ', (metrics.precision_score(y_test, y_predict)))"
   ]
  },
  {
   "cell_type": "code",
   "execution_count": null,
   "metadata": {},
   "outputs": [],
   "source": []
  }
 ],
 "metadata": {
  "kernelspec": {
   "display_name": "Python 3",
   "language": "python",
   "name": "python3"
  },
  "language_info": {
   "codemirror_mode": {
    "name": "ipython",
    "version": 3
   },
   "file_extension": ".py",
   "mimetype": "text/x-python",
   "name": "python",
   "nbconvert_exporter": "python",
   "pygments_lexer": "ipython3",
   "version": "3.7.4"
  }
 },
 "nbformat": 4,
 "nbformat_minor": 4
}
